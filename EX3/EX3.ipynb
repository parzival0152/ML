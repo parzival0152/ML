{
 "cells": [
  {
   "cell_type": "code",
   "execution_count": 5,
   "metadata": {},
   "outputs": [],
   "source": [
    "import scipy.io\n",
    "import numpy as np\n",
    "from PIL import Image as im\n",
    "import matplotlib.pyplot as plt\n",
    "%matplotlib inline\n",
    "\n",
    "mat = scipy.io.loadmat(\"..\\EX2\\mnist_all.mat\")"
   ]
  },
  {
   "cell_type": "code",
   "execution_count": 6,
   "metadata": {},
   "outputs": [
    {
     "data": {
      "image/png": "[encoded data removed]",
      "text/plain": [
       "<PIL.Image.Image image mode=L size=84x84>"
      ]
     },
     "metadata": {},
     "output_type": "display_data"
    }
   ],
   "source": [
    "collage = im.new(\"L\",(28*3,28*3))\n",
    "for i in range(9):\n",
    "    collage.paste(im.fromarray(np.array(mat.get(f'train{i+1}'))[0].reshape((28,28))),(28 * (i%3),28 * (i//3)))\n",
    "display(collage)\n",
    "# we have that each training set contains a 784 long vector that represents a handwritten digit\n",
    "# the digit in the name of the training set corrosponds to the image in the figure"
   ]
  },
  {
   "cell_type": "code",
   "execution_count": 42,
   "metadata": {},
   "outputs": [
    {
     "name": "stdout",
     "output_type": "stream",
     "text": [
      "(5923, 10)\n",
      "(6742, 10)\n",
      "(5958, 10)\n",
      "(6131, 10)\n",
      "(5842, 10)\n",
      "(5421, 10)\n",
      "(5918, 10)\n",
      "(6265, 10)\n",
      "(5851, 10)\n",
      "(5949, 10)\n"
     ]
    }
   ],
   "source": [
    "trainSets = [mat.get(f\"train{i}\") for i in range(10)]\n",
    "testSets = [mat.get(f\"test{i}\") for i in range(10)]\n",
    "\n",
    "N = sum([s.shape[0] for s in trainSets])\n",
    "D = 784\n",
    "w = np.ones((D,10))*0.0005  # creating a uniform weights vector\n",
    "# creating a small number devided by the size of the data cause it is out of the sum\n",
    "Tau = 0.0001/(N)\n",
    "\n",
    "epochCount = 1\n",
    "costFunction = np.zeros(epochCount)\n",
    "\n",
    "for _ in range(epochCount):\n",
    "\n",
    "    updateW = np.zeros((D,10))\n",
    "\n",
    "    for index,trainingSet in enumerate(trainSets):\n",
    "        Wx = np.matmul(trainingSet,w)\n",
    "        print(Wx.sum(axis=0))\n",
    "\n"
   ]
  }
 ],
 "metadata": {
  "interpreter": {
   "hash": "3903bd6385b0f7c4c34dba72a032e6194880472aa01469b0cdf49beb8da5ed5e"
  },
  "kernelspec": {
   "display_name": "Python 3.9.5 ('ML': venv)",
   "language": "python",
   "name": "python3"
  },
  "language_info": {
   "codemirror_mode": {
    "name": "ipython",
    "version": 3
   },
   "file_extension": ".py",
   "mimetype": "text/x-python",
   "name": "python",
   "nbconvert_exporter": "python",
   "pygments_lexer": "ipython3",
   "version": "3.9.5"
  },
  "orig_nbformat": 4
 },
 "nbformat": 4,
 "nbformat_minor": 2
}
