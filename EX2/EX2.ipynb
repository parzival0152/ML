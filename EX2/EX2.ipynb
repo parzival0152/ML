{
 "cells": [
  {
   "cell_type": "code",
   "execution_count": 14,
   "metadata": {},
   "outputs": [],
   "source": [
    "import scipy.io\n",
    "import numpy as np\n",
    "from PIL import Image as im\n",
    "import matplotlib.pyplot as plt\n",
    "%matplotlib inline\n",
    "\n",
    "mat = scipy.io.loadmat(\"mnist_all.mat\")\n",
    "sigmoid = lambda x: 1/(1 + np.exp(-x))"
   ]
  },
  {
   "cell_type": "code",
   "execution_count": 15,
   "metadata": {},
   "outputs": [
    {
     "data": {
      "image/png": "[encoded data removed]",
      "text/plain": [
       "<PIL.Image.Image image mode=L size=84x84>"
      ]
     },
     "metadata": {},
     "output_type": "display_data"
    }
   ],
   "source": [
    "collage = im.new(\"L\",(28*3,28*3))\n",
    "for i in range(9):\n",
    "    collage.paste(im.fromarray(np.array(mat.get(f'train{i+1}'))[0].reshape((28,28))),(28 * (i%3),28 * (i//3)))\n",
    "display(collage)\n",
    "# we have that each training set contains a 784 long vector that represents a handwritten digit\n",
    "# the digit in the name of the training set corrosponds to the image in the figure"
   ]
  },
  {
   "cell_type": "code",
   "execution_count": 22,
   "metadata": {},
   "outputs": [
    {
     "name": "stdout",
     "output_type": "stream",
     "text": [
      "The number of mistakes made:  16\n",
      "The success rate of the final weights: 99.87%\n"
     ]
    },
    {
     "data": {
      "image/png": "[encoded data removed]",
      "text/plain": [
       "<Figure size 432x288 with 1 Axes>"
      ]
     },
     "metadata": {},
     "output_type": "display_data"
    }
   ],
   "source": [
    "train1 = mat.get(\"train1\")\n",
    "train2 = mat.get(\"train2\")\n",
    "# training sets for 1 and 2 figures\n",
    "\n",
    "size1 = train1.shape[0]\n",
    "size2 = train2.shape[0]\n",
    "# sizes of respective training sets\n",
    "\n",
    "test1 = mat.get(\"test1\")\n",
    "test2 = mat.get(\"test2\")\n",
    "# test sets for both figures\n",
    "\n",
    "# 784 cause this is the straightened form of the 28x28 pictures\n",
    "size = train1.shape[1]\n",
    "\n",
    "w = np.ones(size)*0.0005  # creating a uniform weights vector\n",
    "# creating a small number devided by the size of the data cause it is out of the sum\n",
    "Tau = 0.0001/(size1+size2)\n",
    "\n",
    "epochCount = 50\n",
    "\n",
    "costFunction = np.zeros(epochCount)\n",
    "for i in range(0, epochCount):\n",
    "    wXt = np.matmul(train1, w)  # calculate weights times the feature vectors\n",
    "    SigZero = sigmoid(wXt)  # passing the activation sigmoid function over the calcuation\n",
    "    costFD = np.matmul((0 - SigZero), train1) # computing the derivetive of the cost function\n",
    "\n",
    "    wXt = np.matmul(train2, w)  \n",
    "    SigOne = sigmoid(wXt)\n",
    "    costFD += np.matmul((1 - SigOne), train2) # doing the same thing for the training set of 2 figures\n",
    "\n",
    "    w = w + Tau * costFD # doing an iteration on the weights\n",
    "    costFunction[i] = (np.sum(np.log(SigOne)) + np.sum(np.log(SigZero))) / (size1 + size2) # saving the preformance of the this iteration\n",
    "\n",
    "wXt = np.matmul(test1,w)\n",
    "SigZero = sigmoid(wXt) \n",
    "errors0 = sum(SigZero >= 0.5)\n",
    "\n",
    "wXt = np.matmul(test2,w)\n",
    "SigOne = sigmoid(wXt)\n",
    "errors1 = sum(SigOne <= 0.5)\n",
    "\n",
    "Mistakes = errors0 + errors1 \n",
    "print(\"The number of mistakes made: \",Mistakes)\n",
    "SuccessRate = (1-(Mistakes/(size1+size2)))*100 \n",
    "print(f\"The success rate of the final weights: {round(SuccessRate,2)}%\")\n",
    "\n",
    "fig = plt.figure()\n",
    "fig.set_facecolor(\"white\")\n",
    "plt.plot(costFunction)\n",
    "plt.xlabel('Iteration number')\n",
    "plt.ylabel('Cost function')\n",
    "\n",
    "plt.show()\n"
   ]
  }
 ],
 "metadata": {
  "interpreter": {
   "hash": "3903bd6385b0f7c4c34dba72a032e6194880472aa01469b0cdf49beb8da5ed5e"
  },
  "kernelspec": {
   "display_name": "Python 3.9.5 ('ML': venv)",
   "language": "python",
   "name": "python3"
  },
  "language_info": {
   "codemirror_mode": {
    "name": "ipython",
    "version": 3
   },
   "file_extension": ".py",
   "mimetype": "text/x-python",
   "name": "python",
   "nbconvert_exporter": "python",
   "pygments_lexer": "ipython3",
   "version": "3.10.1"
  },
  "orig_nbformat": 4
 },
 "nbformat": 4,
 "nbformat_minor": 2
}
