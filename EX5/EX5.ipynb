{
 "cells": [
  {
   "cell_type": "code",
   "execution_count": 19,
   "metadata": {},
   "outputs": [],
   "source": [
    "import scipy.io\n",
    "from IPython.display import clear_output\n",
    "from scipy.spatial import distance_matrix\n",
    "import numpy as np\n",
    "from PIL import Image as Image\n",
    "import matplotlib.pyplot as plt\n",
    "import random as rand\n",
    "%matplotlib inline"
   ]
  },
  {
   "cell_type": "code",
   "execution_count": 20,
   "metadata": {},
   "outputs": [],
   "source": [
    "data = scipy.io.loadmat(\"mnistSmall.mat\")"
   ]
  },
  {
   "cell_type": "code",
   "execution_count": 21,
   "metadata": {},
   "outputs": [
    {
     "name": "stdout",
     "output_type": "stream",
     "text": [
      "(10000, 784)\n"
     ]
    }
   ],
   "source": [
    "trainData = data['trainData']\n",
    "print(trainData.shape)\n",
    "N = trainData.shape[0]"
   ]
  },
  {
   "cell_type": "markdown",
   "metadata": {},
   "source": [
    "# Picking centers"
   ]
  },
  {
   "cell_type": "code",
   "execution_count": 22,
   "metadata": {},
   "outputs": [],
   "source": [
    "randomIndexes= np.random.choice(N,size=10,replace=False)\n",
    "# randomIndexes = list(range(10))\n",
    "centers = trainData[randomIndexes, :]"
   ]
  },
  {
   "cell_type": "markdown",
   "metadata": {},
   "source": [
    "# Assigning to and calculating new centers"
   ]
  },
  {
   "cell_type": "code",
   "execution_count": 23,
   "metadata": {},
   "outputs": [
    {
     "name": "stdout",
     "output_type": "stream",
     "text": [
      "cycle: 67\n"
     ]
    }
   ],
   "source": [
    "i = 0\n",
    "costFunc = []\n",
    "prevLabels=np.zeros(N)\n",
    "while True:\n",
    "    clear_output(wait=True)\n",
    "    print(f\"cycle: {i}\")\n",
    "    i += 1\n",
    "    dist = distance_matrix(trainData,centers)\n",
    "    labels = np.argmin(dist,axis=1)\n",
    "    cost = np.sum(np.min(dist,axis=1))\n",
    "    costFunc.append(cost)\n",
    "    \n",
    "    if np.array_equal(labels,prevLabels):\n",
    "        break\n",
    "    \n",
    "    prevLabels = labels\n",
    "\n",
    "    for index in range(10):\n",
    "        centers[index] = np.sum(trainData,where=(labels==index).reshape((N,1)),axis=0)/np.sum(labels==index)\n",
    "    "
   ]
  },
  {
   "cell_type": "code",
   "execution_count": 24,
   "metadata": {},
   "outputs": [
    {
     "name": "stdout",
     "output_type": "stream",
     "text": [
      "Num of mistakes = 2196\n",
      "Number of samples = 10000\n",
      "Accuracy = 78.03999999999999\n"
     ]
    },
    {
     "data": {
      "image/png": "[encoded data removed]",
      "text/plain": [
       "<Figure size 432x288 with 1 Axes>"
      ]
     },
     "metadata": {},
     "output_type": "display_data"
    }
   ],
   "source": [
    "mistakes = np.sum(labels==np.argmin(data['trainLabels'],axis=1))\n",
    "print(f\"Num of mistakes = {mistakes}\\nNumber of samples = {N}\\nAccuracy = {(1-mistakes/N)*100}\")\n",
    "\n",
    "fig = plt.figure()\n",
    "fig.set_facecolor(\"white\")\n",
    "plt.plot(costFunc)\n",
    "plt.xlabel('Iteration number')\n",
    "plt.ylabel('Cost function')\n",
    "\n",
    "plt.show()"
   ]
  },
  {
   "cell_type": "markdown",
   "metadata": {},
   "source": [
    "# Test"
   ]
  },
  {
   "cell_type": "code",
   "execution_count": 25,
   "metadata": {},
   "outputs": [],
   "source": [
    "testData = data['testData']\n",
    "dist = distance_matrix(testData,centers)\n",
    "testLabels = np.argmin(dist,axis=1)"
   ]
  },
  {
   "cell_type": "code",
   "execution_count": 26,
   "metadata": {},
   "outputs": [
    {
     "name": "stdout",
     "output_type": "stream",
     "text": [
      "Num of mistakes = 417\n",
      "Number of samples = 10000\n",
      "Accuracy = 95.83\n"
     ]
    }
   ],
   "source": [
    "mistakes = np.sum(testLabels==np.argmin(data['testLabels'],axis=1))\n",
    "print(f\"Num of mistakes = {mistakes}\\nNumber of samples = {N}\\nAccuracy = {(1-mistakes/N)*100}\")"
   ]
  }
 ],
 "metadata": {
  "interpreter": {
   "hash": "57e30039f6845e8f269feba9d383457dfa490950626695e5a94d1b72c38b7a84"
  },
  "kernelspec": {
   "display_name": "Python 3.9.5 ('ml': venv)",
   "language": "python",
   "name": "python3"
  },
  "language_info": {
   "codemirror_mode": {
    "name": "ipython",
    "version": 3
   },
   "file_extension": ".py",
   "mimetype": "text/x-python",
   "name": "python",
   "nbconvert_exporter": "python",
   "pygments_lexer": "ipython3",
   "version": "3.9.5"
  },
  "orig_nbformat": 4
 },
 "nbformat": 4,
 "nbformat_minor": 2
}
